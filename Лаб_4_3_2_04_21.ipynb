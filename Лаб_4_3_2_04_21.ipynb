{
  "nbformat": 4,
  "nbformat_minor": 0,
  "metadata": {
    "colab": {
      "name": "Лаб.4.3\\2.04.21.ipynb",
      "provenance": [],
      "authorship_tag": "ABX9TyPG0jIbiT5aFJMmDpASwwIF",
      "include_colab_link": true
    },
    "kernelspec": {
      "name": "python3",
      "display_name": "Python 3"
    },
    "language_info": {
      "name": "python"
    }
  },
  "cells": [
    {
      "cell_type": "markdown",
      "metadata": {
        "id": "view-in-github",
        "colab_type": "text"
      },
      "source": [
        "<a href=\"https://colab.research.google.com/github/Elizaveta0803/LabAnalitika/blob/main/%D0%9B%D0%B0%D0%B1_4_3_2_04_21.ipynb\" target=\"_parent\"><img src=\"https://colab.research.google.com/assets/colab-badge.svg\" alt=\"Open In Colab\"/></a>"
      ]
    },
    {
      "cell_type": "markdown",
      "metadata": {
        "id": "0uUbAJq_a8JD"
      },
      "source": [
        "# **Вариант 4**"
      ]
    },
    {
      "cell_type": "markdown",
      "metadata": {
        "id": "gestta0Ca-BL"
      },
      "source": [
        "# **Шаг 1. Импорт данных и изучение характеристик наборов данных.**"
      ]
    },
    {
      "cell_type": "code",
      "metadata": {
        "id": "H9nOZKj_CrPq"
      },
      "source": [
        "#importing the libraries\n",
        "import requests\n",
        "import pandas as pd\n",
        "import seaborn as sns\n",
        "import matplotlib.pyplot as plt\n",
        "#Importing the data from the webpage into a DataFrame\n",
        "url='https://en.wikipedia.org/wiki/List_of_highest-grossing_films_in_Germany'\n",
        "req=requests.get(url)\n",
        "data=pd.read_html(req.text)\n",
        "df=data[0]"
      ],
      "execution_count": 1,
      "outputs": []
    },
    {
      "cell_type": "code",
      "metadata": {
        "colab": {
          "base_uri": "https://localhost:8080/",
          "height": 935
        },
        "id": "XSxq1yR7bENf",
        "outputId": "9e0e5442-8953-4d98-97e0-ce94fdc44504"
      },
      "source": [
        "df"
      ],
      "execution_count": 2,
      "outputs": [
        {
          "output_type": "execute_result",
          "data": {
            "text/html": [
              "<div>\n",
              "<style scoped>\n",
              "    .dataframe tbody tr th:only-of-type {\n",
              "        vertical-align: middle;\n",
              "    }\n",
              "\n",
              "    .dataframe tbody tr th {\n",
              "        vertical-align: top;\n",
              "    }\n",
              "\n",
              "    .dataframe thead th {\n",
              "        text-align: right;\n",
              "    }\n",
              "</style>\n",
              "<table border=\"1\" class=\"dataframe\">\n",
              "  <thead>\n",
              "    <tr style=\"text-align: right;\">\n",
              "      <th></th>\n",
              "      <th>Rank</th>\n",
              "      <th>Title</th>\n",
              "      <th>Film</th>\n",
              "      <th>Admissions[1]</th>\n",
              "    </tr>\n",
              "  </thead>\n",
              "  <tbody>\n",
              "    <tr>\n",
              "      <th>0</th>\n",
              "      <td>1</td>\n",
              "      <td>The Jungle Book</td>\n",
              "      <td>1968</td>\n",
              "      <td>27290763</td>\n",
              "    </tr>\n",
              "    <tr>\n",
              "      <th>1</th>\n",
              "      <td>2</td>\n",
              "      <td>Titanic</td>\n",
              "      <td>1998</td>\n",
              "      <td>18812740</td>\n",
              "    </tr>\n",
              "    <tr>\n",
              "      <th>2</th>\n",
              "      <td>3</td>\n",
              "      <td>Once Upon a Time in the West</td>\n",
              "      <td>1969</td>\n",
              "      <td>13012746</td>\n",
              "    </tr>\n",
              "    <tr>\n",
              "      <th>3</th>\n",
              "      <td>4</td>\n",
              "      <td>Doctor Zhivago</td>\n",
              "      <td>1966</td>\n",
              "      <td>12750000</td>\n",
              "    </tr>\n",
              "    <tr>\n",
              "      <th>4</th>\n",
              "      <td>5</td>\n",
              "      <td>Harry Potter and the Philosopher's Stone</td>\n",
              "      <td>2001</td>\n",
              "      <td>12595323</td>\n",
              "    </tr>\n",
              "    <tr>\n",
              "      <th>5</th>\n",
              "      <td>6</td>\n",
              "      <td>Trinity Is Still My Name</td>\n",
              "      <td>1972</td>\n",
              "      <td>12267000</td>\n",
              "    </tr>\n",
              "    <tr>\n",
              "      <th>6</th>\n",
              "      <td>7</td>\n",
              "      <td>The Lord of the Rings: The Fellowship of the Ring</td>\n",
              "      <td>2001</td>\n",
              "      <td>11930785</td>\n",
              "    </tr>\n",
              "    <tr>\n",
              "      <th>7</th>\n",
              "      <td>8</td>\n",
              "      <td>The Lion King</td>\n",
              "      <td>1994</td>\n",
              "      <td>11899893</td>\n",
              "    </tr>\n",
              "    <tr>\n",
              "      <th>8</th>\n",
              "      <td>9</td>\n",
              "      <td>Der Schuh des Manitu</td>\n",
              "      <td>2001</td>\n",
              "      <td>11721183</td>\n",
              "    </tr>\n",
              "    <tr>\n",
              "      <th>9</th>\n",
              "      <td>10</td>\n",
              "      <td>Avatar</td>\n",
              "      <td>2009</td>\n",
              "      <td>11311518</td>\n",
              "    </tr>\n",
              "    <tr>\n",
              "      <th>10</th>\n",
              "      <td>11</td>\n",
              "      <td>The Aristocats</td>\n",
              "      <td>1971</td>\n",
              "      <td>11294126</td>\n",
              "    </tr>\n",
              "    <tr>\n",
              "      <th>11</th>\n",
              "      <td>12</td>\n",
              "      <td>Thunderball</td>\n",
              "      <td>1965</td>\n",
              "      <td>11250000</td>\n",
              "    </tr>\n",
              "    <tr>\n",
              "      <th>12</th>\n",
              "      <td>13</td>\n",
              "      <td>The Silence</td>\n",
              "      <td>1964</td>\n",
              "      <td>11000000</td>\n",
              "    </tr>\n",
              "    <tr>\n",
              "      <th>13</th>\n",
              "      <td>14</td>\n",
              "      <td>The Lord of the Rings: The Two Towers</td>\n",
              "      <td>2002</td>\n",
              "      <td>10753596</td>\n",
              "    </tr>\n",
              "    <tr>\n",
              "      <th>14</th>\n",
              "      <td>15</td>\n",
              "      <td>Pretty Woman</td>\n",
              "      <td>1990</td>\n",
              "      <td>10625337</td>\n",
              "    </tr>\n",
              "    <tr>\n",
              "      <th>15</th>\n",
              "      <td>16</td>\n",
              "      <td>The Lord of the Rings: The Return of the King</td>\n",
              "      <td>2003</td>\n",
              "      <td>10442102</td>\n",
              "    </tr>\n",
              "    <tr>\n",
              "      <th>16</th>\n",
              "      <td>17</td>\n",
              "      <td>Goldfinger</td>\n",
              "      <td>1965</td>\n",
              "      <td>10250000</td>\n",
              "    </tr>\n",
              "    <tr>\n",
              "      <th>17</th>\n",
              "      <td>18</td>\n",
              "      <td>Treasure of the Silver Lake</td>\n",
              "      <td>1962</td>\n",
              "      <td>10000000</td>\n",
              "    </tr>\n",
              "    <tr>\n",
              "      <th>18</th>\n",
              "      <td>19</td>\n",
              "      <td>Apache Gold</td>\n",
              "      <td>1963</td>\n",
              "      <td>10000000</td>\n",
              "    </tr>\n",
              "    <tr>\n",
              "      <th>19</th>\n",
              "      <td>20</td>\n",
              "      <td>The Rescuers</td>\n",
              "      <td>1977</td>\n",
              "      <td>9767049</td>\n",
              "    </tr>\n",
              "    <tr>\n",
              "      <th>20</th>\n",
              "      <td>21</td>\n",
              "      <td>Harry Potter and the Chamber of Secrets</td>\n",
              "      <td>2002</td>\n",
              "      <td>9728779</td>\n",
              "    </tr>\n",
              "    <tr>\n",
              "      <th>21</th>\n",
              "      <td>22</td>\n",
              "      <td>Jurassic Park</td>\n",
              "      <td>1993</td>\n",
              "      <td>9395450</td>\n",
              "    </tr>\n",
              "    <tr>\n",
              "      <th>22</th>\n",
              "      <td>23</td>\n",
              "      <td>Independence Day</td>\n",
              "      <td>1996</td>\n",
              "      <td>9272424</td>\n",
              "    </tr>\n",
              "    <tr>\n",
              "      <th>23</th>\n",
              "      <td>24</td>\n",
              "      <td>Traumschiff Surprise – Periode 1</td>\n",
              "      <td>2004</td>\n",
              "      <td>9165932</td>\n",
              "    </tr>\n",
              "    <tr>\n",
              "      <th>24</th>\n",
              "      <td>25</td>\n",
              "      <td>The Intouchables</td>\n",
              "      <td>2012</td>\n",
              "      <td>9162715</td>\n",
              "    </tr>\n",
              "    <tr>\n",
              "      <th>25</th>\n",
              "      <td>26</td>\n",
              "      <td>Star Wars: The Force Awakens</td>\n",
              "      <td>2015</td>\n",
              "      <td>9060311</td>\n",
              "    </tr>\n",
              "    <tr>\n",
              "      <th>26</th>\n",
              "      <td>27</td>\n",
              "      <td>You Only Live Twice</td>\n",
              "      <td>1967</td>\n",
              "      <td>9000000</td>\n",
              "    </tr>\n",
              "    <tr>\n",
              "      <th>27</th>\n",
              "      <td>28</td>\n",
              "      <td>Star Wars: Episode I – The Phantom Menace</td>\n",
              "      <td>1999</td>\n",
              "      <td>8962516</td>\n",
              "    </tr>\n",
              "    <tr>\n",
              "      <th>28</th>\n",
              "      <td>29</td>\n",
              "      <td>Finding Nemo</td>\n",
              "      <td>2003</td>\n",
              "      <td>8839084</td>\n",
              "    </tr>\n",
              "    <tr>\n",
              "      <th>29</th>\n",
              "      <td>30</td>\n",
              "      <td>Dirty Dancing</td>\n",
              "      <td>1987</td>\n",
              "      <td>8823781</td>\n",
              "    </tr>\n",
              "  </tbody>\n",
              "</table>\n",
              "</div>"
            ],
            "text/plain": [
              "    Rank  ... Admissions[1]\n",
              "0      1  ...      27290763\n",
              "1      2  ...      18812740\n",
              "2      3  ...      13012746\n",
              "3      4  ...      12750000\n",
              "4      5  ...      12595323\n",
              "5      6  ...      12267000\n",
              "6      7  ...      11930785\n",
              "7      8  ...      11899893\n",
              "8      9  ...      11721183\n",
              "9     10  ...      11311518\n",
              "10    11  ...      11294126\n",
              "11    12  ...      11250000\n",
              "12    13  ...      11000000\n",
              "13    14  ...      10753596\n",
              "14    15  ...      10625337\n",
              "15    16  ...      10442102\n",
              "16    17  ...      10250000\n",
              "17    18  ...      10000000\n",
              "18    19  ...      10000000\n",
              "19    20  ...       9767049\n",
              "20    21  ...       9728779\n",
              "21    22  ...       9395450\n",
              "22    23  ...       9272424\n",
              "23    24  ...       9165932\n",
              "24    25  ...       9162715\n",
              "25    26  ...       9060311\n",
              "26    27  ...       9000000\n",
              "27    28  ...       8962516\n",
              "28    29  ...       8839084\n",
              "29    30  ...       8823781\n",
              "\n",
              "[30 rows x 4 columns]"
            ]
          },
          "metadata": {
            "tags": []
          },
          "execution_count": 2
        }
      ]
    },
    {
      "cell_type": "code",
      "metadata": {
        "colab": {
          "base_uri": "https://localhost:8080/",
          "height": 195
        },
        "id": "lxKZkzUXbFYX",
        "outputId": "d4b2cfb3-79ef-455e-ffa7-e6758623e858"
      },
      "source": [
        "df.head()"
      ],
      "execution_count": 3,
      "outputs": [
        {
          "output_type": "execute_result",
          "data": {
            "text/html": [
              "<div>\n",
              "<style scoped>\n",
              "    .dataframe tbody tr th:only-of-type {\n",
              "        vertical-align: middle;\n",
              "    }\n",
              "\n",
              "    .dataframe tbody tr th {\n",
              "        vertical-align: top;\n",
              "    }\n",
              "\n",
              "    .dataframe thead th {\n",
              "        text-align: right;\n",
              "    }\n",
              "</style>\n",
              "<table border=\"1\" class=\"dataframe\">\n",
              "  <thead>\n",
              "    <tr style=\"text-align: right;\">\n",
              "      <th></th>\n",
              "      <th>Rank</th>\n",
              "      <th>Title</th>\n",
              "      <th>Film</th>\n",
              "      <th>Admissions[1]</th>\n",
              "    </tr>\n",
              "  </thead>\n",
              "  <tbody>\n",
              "    <tr>\n",
              "      <th>0</th>\n",
              "      <td>1</td>\n",
              "      <td>The Jungle Book</td>\n",
              "      <td>1968</td>\n",
              "      <td>27290763</td>\n",
              "    </tr>\n",
              "    <tr>\n",
              "      <th>1</th>\n",
              "      <td>2</td>\n",
              "      <td>Titanic</td>\n",
              "      <td>1998</td>\n",
              "      <td>18812740</td>\n",
              "    </tr>\n",
              "    <tr>\n",
              "      <th>2</th>\n",
              "      <td>3</td>\n",
              "      <td>Once Upon a Time in the West</td>\n",
              "      <td>1969</td>\n",
              "      <td>13012746</td>\n",
              "    </tr>\n",
              "    <tr>\n",
              "      <th>3</th>\n",
              "      <td>4</td>\n",
              "      <td>Doctor Zhivago</td>\n",
              "      <td>1966</td>\n",
              "      <td>12750000</td>\n",
              "    </tr>\n",
              "    <tr>\n",
              "      <th>4</th>\n",
              "      <td>5</td>\n",
              "      <td>Harry Potter and the Philosopher's Stone</td>\n",
              "      <td>2001</td>\n",
              "      <td>12595323</td>\n",
              "    </tr>\n",
              "  </tbody>\n",
              "</table>\n",
              "</div>"
            ],
            "text/plain": [
              "   Rank                                     Title  Film  Admissions[1]\n",
              "0     1                           The Jungle Book  1968       27290763\n",
              "1     2                                   Titanic  1998       18812740\n",
              "2     3              Once Upon a Time in the West  1969       13012746\n",
              "3     4                            Doctor Zhivago  1966       12750000\n",
              "4     5  Harry Potter and the Philosopher's Stone  2001       12595323"
            ]
          },
          "metadata": {
            "tags": []
          },
          "execution_count": 3
        }
      ]
    },
    {
      "cell_type": "code",
      "metadata": {
        "colab": {
          "base_uri": "https://localhost:8080/"
        },
        "id": "lFYFB08abI5j",
        "outputId": "194e85ae-8d28-4c5b-bacf-50fadd90eed7"
      },
      "source": [
        "df.info()"
      ],
      "execution_count": 4,
      "outputs": [
        {
          "output_type": "stream",
          "text": [
            "<class 'pandas.core.frame.DataFrame'>\n",
            "RangeIndex: 30 entries, 0 to 29\n",
            "Data columns (total 4 columns):\n",
            " #   Column         Non-Null Count  Dtype \n",
            "---  ------         --------------  ----- \n",
            " 0   Rank           30 non-null     int64 \n",
            " 1   Title          30 non-null     object\n",
            " 2   Film           30 non-null     int64 \n",
            " 3   Admissions[1]  30 non-null     int64 \n",
            "dtypes: int64(3), object(1)\n",
            "memory usage: 1.1+ KB\n"
          ],
          "name": "stdout"
        }
      ]
    },
    {
      "cell_type": "markdown",
      "metadata": {
        "id": "mGJ-pUTHbN_t"
      },
      "source": [
        "# **Шаг 2. Обработка данных** "
      ]
    },
    {
      "cell_type": "code",
      "metadata": {
        "id": "UfkdGtQlbOhj"
      },
      "source": [
        "df.drop(['Rank'],axis=1,inplace=True)"
      ],
      "execution_count": 5,
      "outputs": []
    },
    {
      "cell_type": "code",
      "metadata": {
        "colab": {
          "base_uri": "https://localhost:8080/",
          "height": 935
        },
        "id": "Y4Wu6vGQbbZM",
        "outputId": "40224f74-593e-42ff-fad6-43872c689bdc"
      },
      "source": [
        "df"
      ],
      "execution_count": 6,
      "outputs": [
        {
          "output_type": "execute_result",
          "data": {
            "text/html": [
              "<div>\n",
              "<style scoped>\n",
              "    .dataframe tbody tr th:only-of-type {\n",
              "        vertical-align: middle;\n",
              "    }\n",
              "\n",
              "    .dataframe tbody tr th {\n",
              "        vertical-align: top;\n",
              "    }\n",
              "\n",
              "    .dataframe thead th {\n",
              "        text-align: right;\n",
              "    }\n",
              "</style>\n",
              "<table border=\"1\" class=\"dataframe\">\n",
              "  <thead>\n",
              "    <tr style=\"text-align: right;\">\n",
              "      <th></th>\n",
              "      <th>Title</th>\n",
              "      <th>Film</th>\n",
              "      <th>Admissions[1]</th>\n",
              "    </tr>\n",
              "  </thead>\n",
              "  <tbody>\n",
              "    <tr>\n",
              "      <th>0</th>\n",
              "      <td>The Jungle Book</td>\n",
              "      <td>1968</td>\n",
              "      <td>27290763</td>\n",
              "    </tr>\n",
              "    <tr>\n",
              "      <th>1</th>\n",
              "      <td>Titanic</td>\n",
              "      <td>1998</td>\n",
              "      <td>18812740</td>\n",
              "    </tr>\n",
              "    <tr>\n",
              "      <th>2</th>\n",
              "      <td>Once Upon a Time in the West</td>\n",
              "      <td>1969</td>\n",
              "      <td>13012746</td>\n",
              "    </tr>\n",
              "    <tr>\n",
              "      <th>3</th>\n",
              "      <td>Doctor Zhivago</td>\n",
              "      <td>1966</td>\n",
              "      <td>12750000</td>\n",
              "    </tr>\n",
              "    <tr>\n",
              "      <th>4</th>\n",
              "      <td>Harry Potter and the Philosopher's Stone</td>\n",
              "      <td>2001</td>\n",
              "      <td>12595323</td>\n",
              "    </tr>\n",
              "    <tr>\n",
              "      <th>5</th>\n",
              "      <td>Trinity Is Still My Name</td>\n",
              "      <td>1972</td>\n",
              "      <td>12267000</td>\n",
              "    </tr>\n",
              "    <tr>\n",
              "      <th>6</th>\n",
              "      <td>The Lord of the Rings: The Fellowship of the Ring</td>\n",
              "      <td>2001</td>\n",
              "      <td>11930785</td>\n",
              "    </tr>\n",
              "    <tr>\n",
              "      <th>7</th>\n",
              "      <td>The Lion King</td>\n",
              "      <td>1994</td>\n",
              "      <td>11899893</td>\n",
              "    </tr>\n",
              "    <tr>\n",
              "      <th>8</th>\n",
              "      <td>Der Schuh des Manitu</td>\n",
              "      <td>2001</td>\n",
              "      <td>11721183</td>\n",
              "    </tr>\n",
              "    <tr>\n",
              "      <th>9</th>\n",
              "      <td>Avatar</td>\n",
              "      <td>2009</td>\n",
              "      <td>11311518</td>\n",
              "    </tr>\n",
              "    <tr>\n",
              "      <th>10</th>\n",
              "      <td>The Aristocats</td>\n",
              "      <td>1971</td>\n",
              "      <td>11294126</td>\n",
              "    </tr>\n",
              "    <tr>\n",
              "      <th>11</th>\n",
              "      <td>Thunderball</td>\n",
              "      <td>1965</td>\n",
              "      <td>11250000</td>\n",
              "    </tr>\n",
              "    <tr>\n",
              "      <th>12</th>\n",
              "      <td>The Silence</td>\n",
              "      <td>1964</td>\n",
              "      <td>11000000</td>\n",
              "    </tr>\n",
              "    <tr>\n",
              "      <th>13</th>\n",
              "      <td>The Lord of the Rings: The Two Towers</td>\n",
              "      <td>2002</td>\n",
              "      <td>10753596</td>\n",
              "    </tr>\n",
              "    <tr>\n",
              "      <th>14</th>\n",
              "      <td>Pretty Woman</td>\n",
              "      <td>1990</td>\n",
              "      <td>10625337</td>\n",
              "    </tr>\n",
              "    <tr>\n",
              "      <th>15</th>\n",
              "      <td>The Lord of the Rings: The Return of the King</td>\n",
              "      <td>2003</td>\n",
              "      <td>10442102</td>\n",
              "    </tr>\n",
              "    <tr>\n",
              "      <th>16</th>\n",
              "      <td>Goldfinger</td>\n",
              "      <td>1965</td>\n",
              "      <td>10250000</td>\n",
              "    </tr>\n",
              "    <tr>\n",
              "      <th>17</th>\n",
              "      <td>Treasure of the Silver Lake</td>\n",
              "      <td>1962</td>\n",
              "      <td>10000000</td>\n",
              "    </tr>\n",
              "    <tr>\n",
              "      <th>18</th>\n",
              "      <td>Apache Gold</td>\n",
              "      <td>1963</td>\n",
              "      <td>10000000</td>\n",
              "    </tr>\n",
              "    <tr>\n",
              "      <th>19</th>\n",
              "      <td>The Rescuers</td>\n",
              "      <td>1977</td>\n",
              "      <td>9767049</td>\n",
              "    </tr>\n",
              "    <tr>\n",
              "      <th>20</th>\n",
              "      <td>Harry Potter and the Chamber of Secrets</td>\n",
              "      <td>2002</td>\n",
              "      <td>9728779</td>\n",
              "    </tr>\n",
              "    <tr>\n",
              "      <th>21</th>\n",
              "      <td>Jurassic Park</td>\n",
              "      <td>1993</td>\n",
              "      <td>9395450</td>\n",
              "    </tr>\n",
              "    <tr>\n",
              "      <th>22</th>\n",
              "      <td>Independence Day</td>\n",
              "      <td>1996</td>\n",
              "      <td>9272424</td>\n",
              "    </tr>\n",
              "    <tr>\n",
              "      <th>23</th>\n",
              "      <td>Traumschiff Surprise – Periode 1</td>\n",
              "      <td>2004</td>\n",
              "      <td>9165932</td>\n",
              "    </tr>\n",
              "    <tr>\n",
              "      <th>24</th>\n",
              "      <td>The Intouchables</td>\n",
              "      <td>2012</td>\n",
              "      <td>9162715</td>\n",
              "    </tr>\n",
              "    <tr>\n",
              "      <th>25</th>\n",
              "      <td>Star Wars: The Force Awakens</td>\n",
              "      <td>2015</td>\n",
              "      <td>9060311</td>\n",
              "    </tr>\n",
              "    <tr>\n",
              "      <th>26</th>\n",
              "      <td>You Only Live Twice</td>\n",
              "      <td>1967</td>\n",
              "      <td>9000000</td>\n",
              "    </tr>\n",
              "    <tr>\n",
              "      <th>27</th>\n",
              "      <td>Star Wars: Episode I – The Phantom Menace</td>\n",
              "      <td>1999</td>\n",
              "      <td>8962516</td>\n",
              "    </tr>\n",
              "    <tr>\n",
              "      <th>28</th>\n",
              "      <td>Finding Nemo</td>\n",
              "      <td>2003</td>\n",
              "      <td>8839084</td>\n",
              "    </tr>\n",
              "    <tr>\n",
              "      <th>29</th>\n",
              "      <td>Dirty Dancing</td>\n",
              "      <td>1987</td>\n",
              "      <td>8823781</td>\n",
              "    </tr>\n",
              "  </tbody>\n",
              "</table>\n",
              "</div>"
            ],
            "text/plain": [
              "                                                Title  Film  Admissions[1]\n",
              "0                                     The Jungle Book  1968       27290763\n",
              "1                                             Titanic  1998       18812740\n",
              "2                        Once Upon a Time in the West  1969       13012746\n",
              "3                                      Doctor Zhivago  1966       12750000\n",
              "4            Harry Potter and the Philosopher's Stone  2001       12595323\n",
              "5                            Trinity Is Still My Name  1972       12267000\n",
              "6   The Lord of the Rings: The Fellowship of the Ring  2001       11930785\n",
              "7                                       The Lion King  1994       11899893\n",
              "8                                Der Schuh des Manitu  2001       11721183\n",
              "9                                              Avatar  2009       11311518\n",
              "10                                     The Aristocats  1971       11294126\n",
              "11                                        Thunderball  1965       11250000\n",
              "12                                        The Silence  1964       11000000\n",
              "13              The Lord of the Rings: The Two Towers  2002       10753596\n",
              "14                                       Pretty Woman  1990       10625337\n",
              "15      The Lord of the Rings: The Return of the King  2003       10442102\n",
              "16                                         Goldfinger  1965       10250000\n",
              "17                        Treasure of the Silver Lake  1962       10000000\n",
              "18                                        Apache Gold  1963       10000000\n",
              "19                                       The Rescuers  1977        9767049\n",
              "20            Harry Potter and the Chamber of Secrets  2002        9728779\n",
              "21                                      Jurassic Park  1993        9395450\n",
              "22                                   Independence Day  1996        9272424\n",
              "23                   Traumschiff Surprise – Periode 1  2004        9165932\n",
              "24                                   The Intouchables  2012        9162715\n",
              "25                       Star Wars: The Force Awakens  2015        9060311\n",
              "26                                You Only Live Twice  1967        9000000\n",
              "27          Star Wars: Episode I – The Phantom Menace  1999        8962516\n",
              "28                                       Finding Nemo  2003        8839084\n",
              "29                                      Dirty Dancing  1987        8823781"
            ]
          },
          "metadata": {
            "tags": []
          },
          "execution_count": 6
        }
      ]
    },
    {
      "cell_type": "markdown",
      "metadata": {
        "id": "eMItVQn0cAXZ"
      },
      "source": [
        "# **Шаг 3: Визуализация**"
      ]
    },
    {
      "cell_type": "code",
      "metadata": {
        "id": "7gU8b0MidFbv"
      },
      "source": [
        "df1 = df.rename(columns={'Film': 'Year', 'Admissions[1]': 'Admissions'})"
      ],
      "execution_count": 15,
      "outputs": []
    },
    {
      "cell_type": "code",
      "metadata": {
        "colab": {
          "base_uri": "https://localhost:8080/",
          "height": 195
        },
        "id": "6rA8db2tdkY6",
        "outputId": "9834ee28-0470-4ccf-9cfe-4ff89b1f3e50"
      },
      "source": [
        "df1.head()"
      ],
      "execution_count": 16,
      "outputs": [
        {
          "output_type": "execute_result",
          "data": {
            "text/html": [
              "<div>\n",
              "<style scoped>\n",
              "    .dataframe tbody tr th:only-of-type {\n",
              "        vertical-align: middle;\n",
              "    }\n",
              "\n",
              "    .dataframe tbody tr th {\n",
              "        vertical-align: top;\n",
              "    }\n",
              "\n",
              "    .dataframe thead th {\n",
              "        text-align: right;\n",
              "    }\n",
              "</style>\n",
              "<table border=\"1\" class=\"dataframe\">\n",
              "  <thead>\n",
              "    <tr style=\"text-align: right;\">\n",
              "      <th></th>\n",
              "      <th>Title</th>\n",
              "      <th>Year</th>\n",
              "      <th>Admissions</th>\n",
              "    </tr>\n",
              "  </thead>\n",
              "  <tbody>\n",
              "    <tr>\n",
              "      <th>0</th>\n",
              "      <td>The Jungle Book</td>\n",
              "      <td>1968</td>\n",
              "      <td>27290763</td>\n",
              "    </tr>\n",
              "    <tr>\n",
              "      <th>1</th>\n",
              "      <td>Titanic</td>\n",
              "      <td>1998</td>\n",
              "      <td>18812740</td>\n",
              "    </tr>\n",
              "    <tr>\n",
              "      <th>2</th>\n",
              "      <td>Once Upon a Time in the West</td>\n",
              "      <td>1969</td>\n",
              "      <td>13012746</td>\n",
              "    </tr>\n",
              "    <tr>\n",
              "      <th>3</th>\n",
              "      <td>Doctor Zhivago</td>\n",
              "      <td>1966</td>\n",
              "      <td>12750000</td>\n",
              "    </tr>\n",
              "    <tr>\n",
              "      <th>4</th>\n",
              "      <td>Harry Potter and the Philosopher's Stone</td>\n",
              "      <td>2001</td>\n",
              "      <td>12595323</td>\n",
              "    </tr>\n",
              "  </tbody>\n",
              "</table>\n",
              "</div>"
            ],
            "text/plain": [
              "                                      Title  Year  Admissions\n",
              "0                           The Jungle Book  1968    27290763\n",
              "1                                   Titanic  1998    18812740\n",
              "2              Once Upon a Time in the West  1969    13012746\n",
              "3                            Doctor Zhivago  1966    12750000\n",
              "4  Harry Potter and the Philosopher's Stone  2001    12595323"
            ]
          },
          "metadata": {
            "tags": []
          },
          "execution_count": 16
        }
      ]
    },
    {
      "cell_type": "code",
      "metadata": {
        "colab": {
          "base_uri": "https://localhost:8080/",
          "height": 935
        },
        "id": "JMTndj_vcD6l",
        "outputId": "8d3033fb-7e29-4a58-8a68-d0c794354b98"
      },
      "source": [
        "df2 = df1[['Title','Admissions']].sort_values(ascending=False,by='Admissions')\n",
        "df2"
      ],
      "execution_count": 21,
      "outputs": [
        {
          "output_type": "execute_result",
          "data": {
            "text/html": [
              "<div>\n",
              "<style scoped>\n",
              "    .dataframe tbody tr th:only-of-type {\n",
              "        vertical-align: middle;\n",
              "    }\n",
              "\n",
              "    .dataframe tbody tr th {\n",
              "        vertical-align: top;\n",
              "    }\n",
              "\n",
              "    .dataframe thead th {\n",
              "        text-align: right;\n",
              "    }\n",
              "</style>\n",
              "<table border=\"1\" class=\"dataframe\">\n",
              "  <thead>\n",
              "    <tr style=\"text-align: right;\">\n",
              "      <th></th>\n",
              "      <th>Title</th>\n",
              "      <th>Admissions</th>\n",
              "    </tr>\n",
              "  </thead>\n",
              "  <tbody>\n",
              "    <tr>\n",
              "      <th>0</th>\n",
              "      <td>The Jungle Book</td>\n",
              "      <td>27290763</td>\n",
              "    </tr>\n",
              "    <tr>\n",
              "      <th>1</th>\n",
              "      <td>Titanic</td>\n",
              "      <td>18812740</td>\n",
              "    </tr>\n",
              "    <tr>\n",
              "      <th>2</th>\n",
              "      <td>Once Upon a Time in the West</td>\n",
              "      <td>13012746</td>\n",
              "    </tr>\n",
              "    <tr>\n",
              "      <th>3</th>\n",
              "      <td>Doctor Zhivago</td>\n",
              "      <td>12750000</td>\n",
              "    </tr>\n",
              "    <tr>\n",
              "      <th>4</th>\n",
              "      <td>Harry Potter and the Philosopher's Stone</td>\n",
              "      <td>12595323</td>\n",
              "    </tr>\n",
              "    <tr>\n",
              "      <th>5</th>\n",
              "      <td>Trinity Is Still My Name</td>\n",
              "      <td>12267000</td>\n",
              "    </tr>\n",
              "    <tr>\n",
              "      <th>6</th>\n",
              "      <td>The Lord of the Rings: The Fellowship of the Ring</td>\n",
              "      <td>11930785</td>\n",
              "    </tr>\n",
              "    <tr>\n",
              "      <th>7</th>\n",
              "      <td>The Lion King</td>\n",
              "      <td>11899893</td>\n",
              "    </tr>\n",
              "    <tr>\n",
              "      <th>8</th>\n",
              "      <td>Der Schuh des Manitu</td>\n",
              "      <td>11721183</td>\n",
              "    </tr>\n",
              "    <tr>\n",
              "      <th>9</th>\n",
              "      <td>Avatar</td>\n",
              "      <td>11311518</td>\n",
              "    </tr>\n",
              "    <tr>\n",
              "      <th>10</th>\n",
              "      <td>The Aristocats</td>\n",
              "      <td>11294126</td>\n",
              "    </tr>\n",
              "    <tr>\n",
              "      <th>11</th>\n",
              "      <td>Thunderball</td>\n",
              "      <td>11250000</td>\n",
              "    </tr>\n",
              "    <tr>\n",
              "      <th>12</th>\n",
              "      <td>The Silence</td>\n",
              "      <td>11000000</td>\n",
              "    </tr>\n",
              "    <tr>\n",
              "      <th>13</th>\n",
              "      <td>The Lord of the Rings: The Two Towers</td>\n",
              "      <td>10753596</td>\n",
              "    </tr>\n",
              "    <tr>\n",
              "      <th>14</th>\n",
              "      <td>Pretty Woman</td>\n",
              "      <td>10625337</td>\n",
              "    </tr>\n",
              "    <tr>\n",
              "      <th>15</th>\n",
              "      <td>The Lord of the Rings: The Return of the King</td>\n",
              "      <td>10442102</td>\n",
              "    </tr>\n",
              "    <tr>\n",
              "      <th>16</th>\n",
              "      <td>Goldfinger</td>\n",
              "      <td>10250000</td>\n",
              "    </tr>\n",
              "    <tr>\n",
              "      <th>17</th>\n",
              "      <td>Treasure of the Silver Lake</td>\n",
              "      <td>10000000</td>\n",
              "    </tr>\n",
              "    <tr>\n",
              "      <th>18</th>\n",
              "      <td>Apache Gold</td>\n",
              "      <td>10000000</td>\n",
              "    </tr>\n",
              "    <tr>\n",
              "      <th>19</th>\n",
              "      <td>The Rescuers</td>\n",
              "      <td>9767049</td>\n",
              "    </tr>\n",
              "    <tr>\n",
              "      <th>20</th>\n",
              "      <td>Harry Potter and the Chamber of Secrets</td>\n",
              "      <td>9728779</td>\n",
              "    </tr>\n",
              "    <tr>\n",
              "      <th>21</th>\n",
              "      <td>Jurassic Park</td>\n",
              "      <td>9395450</td>\n",
              "    </tr>\n",
              "    <tr>\n",
              "      <th>22</th>\n",
              "      <td>Independence Day</td>\n",
              "      <td>9272424</td>\n",
              "    </tr>\n",
              "    <tr>\n",
              "      <th>23</th>\n",
              "      <td>Traumschiff Surprise – Periode 1</td>\n",
              "      <td>9165932</td>\n",
              "    </tr>\n",
              "    <tr>\n",
              "      <th>24</th>\n",
              "      <td>The Intouchables</td>\n",
              "      <td>9162715</td>\n",
              "    </tr>\n",
              "    <tr>\n",
              "      <th>25</th>\n",
              "      <td>Star Wars: The Force Awakens</td>\n",
              "      <td>9060311</td>\n",
              "    </tr>\n",
              "    <tr>\n",
              "      <th>26</th>\n",
              "      <td>You Only Live Twice</td>\n",
              "      <td>9000000</td>\n",
              "    </tr>\n",
              "    <tr>\n",
              "      <th>27</th>\n",
              "      <td>Star Wars: Episode I – The Phantom Menace</td>\n",
              "      <td>8962516</td>\n",
              "    </tr>\n",
              "    <tr>\n",
              "      <th>28</th>\n",
              "      <td>Finding Nemo</td>\n",
              "      <td>8839084</td>\n",
              "    </tr>\n",
              "    <tr>\n",
              "      <th>29</th>\n",
              "      <td>Dirty Dancing</td>\n",
              "      <td>8823781</td>\n",
              "    </tr>\n",
              "  </tbody>\n",
              "</table>\n",
              "</div>"
            ],
            "text/plain": [
              "                                                Title  Admissions\n",
              "0                                     The Jungle Book    27290763\n",
              "1                                             Titanic    18812740\n",
              "2                        Once Upon a Time in the West    13012746\n",
              "3                                      Doctor Zhivago    12750000\n",
              "4            Harry Potter and the Philosopher's Stone    12595323\n",
              "5                            Trinity Is Still My Name    12267000\n",
              "6   The Lord of the Rings: The Fellowship of the Ring    11930785\n",
              "7                                       The Lion King    11899893\n",
              "8                                Der Schuh des Manitu    11721183\n",
              "9                                              Avatar    11311518\n",
              "10                                     The Aristocats    11294126\n",
              "11                                        Thunderball    11250000\n",
              "12                                        The Silence    11000000\n",
              "13              The Lord of the Rings: The Two Towers    10753596\n",
              "14                                       Pretty Woman    10625337\n",
              "15      The Lord of the Rings: The Return of the King    10442102\n",
              "16                                         Goldfinger    10250000\n",
              "17                        Treasure of the Silver Lake    10000000\n",
              "18                                        Apache Gold    10000000\n",
              "19                                       The Rescuers     9767049\n",
              "20            Harry Potter and the Chamber of Secrets     9728779\n",
              "21                                      Jurassic Park     9395450\n",
              "22                                   Independence Day     9272424\n",
              "23                   Traumschiff Surprise – Periode 1     9165932\n",
              "24                                   The Intouchables     9162715\n",
              "25                       Star Wars: The Force Awakens     9060311\n",
              "26                                You Only Live Twice     9000000\n",
              "27          Star Wars: Episode I – The Phantom Menace     8962516\n",
              "28                                       Finding Nemo     8839084\n",
              "29                                      Dirty Dancing     8823781"
            ]
          },
          "metadata": {
            "tags": []
          },
          "execution_count": 21
        }
      ]
    },
    {
      "cell_type": "code",
      "metadata": {
        "colab": {
          "base_uri": "https://localhost:8080/",
          "height": 538
        },
        "id": "lld3gM9De_Tz",
        "outputId": "4603aeb3-2f0a-4b3c-9f52-23be78ac5709"
      },
      "source": [
        "plt.figure(figsize=(10,5))\n",
        "ax=sns.barplot(x='Title',y='Admissions', data=df2.head(5))\n",
        "ax.set_xticklabels(labels=df2.head()['Title'],rotation=75)\n",
        "ax.set_title(\"Top 5 most watched films in cinemas in Germany\")\n",
        "ax.set_ylabel(\"Admissions\")\n",
        "for p in ax.patches:\n",
        "  ax.annotate(p.get_height(),(p.get_x()+p.get_width()/2, p.get_height()),ha='center',va='bottom')"
      ],
      "execution_count": 28,
      "outputs": [
        {
          "output_type": "display_data",
          "data": {
            "image/png": "[encoded data removed]",
            "text/plain": [
              "<Figure size 720x360 with 1 Axes>"
            ]
          },
          "metadata": {
            "tags": [],
            "needs_background": "light"
          }
        }
      ]
    },
    {
      "cell_type": "code",
      "metadata": {
        "colab": {
          "base_uri": "https://localhost:8080/",
          "height": 700
        },
        "id": "-qCjC6t9f9kB",
        "outputId": "19b4521d-4b5f-4653-9816-81710ced19a4"
      },
      "source": [
        "df2['Admissions'].head(10).plot(kind='pie',autopct='%.2f%%',labels=df1['Title'],figsize=(1,12))"
      ],
      "execution_count": 25,
      "outputs": [
        {
          "output_type": "execute_result",
          "data": {
            "text/plain": [
              "<matplotlib.axes._subplots.AxesSubplot at 0x7f03cc4c2d50>"
            ]
          },
          "metadata": {
            "tags": []
          },
          "execution_count": 25
        },
        {
          "output_type": "display_data",
          "data": {
            "image/png": "[encoded data removed]",
            "text/plain": [
              "<Figure size 936x864 with 1 Axes>"
            ]
          },
          "metadata": {
            "tags": []
          }
        }
      ]
    },
    {
      "cell_type": "code",
      "metadata": {
        "colab": {
          "base_uri": "https://localhost:8080/",
          "height": 470
        },
        "id": "rafR9UjthISx",
        "outputId": "f37d32d8-039f-4720-bd62-54d352d6ffd8"
      },
      "source": [
        "df3=df1.groupby('Year')['Admissions'].mean()\n",
        "df3.plot(kind='line',figsize=(10,7))"
      ],
      "execution_count": 27,
      "outputs": [
        {
          "output_type": "execute_result",
          "data": {
            "text/plain": [
              "<matplotlib.axes._subplots.AxesSubplot at 0x7f03cac42190>"
            ]
          },
          "metadata": {
            "tags": []
          },
          "execution_count": 27
        },
        {
          "output_type": "display_data",
          "data": {
            "image/png": "[encoded data removed]",
            "text/plain": [
              "<Figure size 720x504 with 1 Axes>"
            ]
          },
          "metadata": {
            "tags": [],
            "needs_background": "light"
          }
        }
      ]
    },
    {
      "cell_type": "markdown",
      "metadata": {
        "id": "D1IWhT8ZhoBK"
      },
      "source": [
        "# **Шаг 4: построение выводов на основе анализа и визуализаций**"
      ]
    },
    {
      "cell_type": "markdown",
      "metadata": {
        "id": "ke81qH8xhqIu"
      },
      "source": [
        "1) Тремя самыми популярными фильмами в кинотеатрах Германии являются: \n",
        "\n",
        "\n",
        "1.   The Jungle Book\n",
        "2.   Titanic\n",
        "3.   Once Upon a Time in the West\n",
        "\n",
        "2) В 1968 был пик посещения кинотеатра, связанный с выходом фильма \"The Jungle Book\". В 1998 году был менее активный, но резкий подъем посещаемости кинотеатров, связанный с выходом фильма \"Titanic\"\n"
      ]
    }
  ]
}