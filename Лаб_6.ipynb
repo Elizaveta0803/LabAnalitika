{
  "nbformat": 4,
  "nbformat_minor": 0,
  "metadata": {
    "colab": {
      "name": "Лаб_6.ipynb",
      "provenance": [],
      "authorship_tag": "ABX9TyNClDqyOUKuxaBtW8LI0OPz",
      "include_colab_link": true
    },
    "kernelspec": {
      "name": "python3",
      "display_name": "Python 3"
    },
    "language_info": {
      "name": "python"
    }
  },
  "cells": [
    {
      "cell_type": "markdown",
      "metadata": {
        "id": "view-in-github",
        "colab_type": "text"
      },
      "source": [
        "<a href=\"https://colab.research.google.com/github/Elizaveta0803/LabAnalitika/blob/main/%D0%9B%D0%B0%D0%B1_6.ipynb\" target=\"_parent\"><img src=\"https://colab.research.google.com/assets/colab-badge.svg\" alt=\"Open In Colab\"/></a>"
      ]
    },
    {
      "cell_type": "markdown",
      "metadata": {
        "id": "HnVEAa0N41Ur"
      },
      "source": [
        "# Тестовый набор данных"
      ]
    },
    {
      "cell_type": "code",
      "metadata": {
        "colab": {
          "base_uri": "https://localhost:8080/"
        },
        "id": "L1-kNBzy4bl5",
        "outputId": "4c3a35be-1d58-4293-c462-424f4e0ec3dd"
      },
      "source": [
        "from numpy.random import seed\n",
        "from numpy.random import randn\n",
        "from numpy import mean\n",
        "from numpy import std\n",
        "\n",
        "seed(1)\n",
        "\n",
        "data = 5 * randn(100) + 50\n",
        "\n",
        "print('mean=%.3f stdv=%.3f' %(mean(data), std(data)))\n"
      ],
      "execution_count": 1,
      "outputs": [
        {
          "output_type": "stream",
          "text": [
            "mean=50.303 stdv=4.426\n"
          ],
          "name": "stdout"
        }
      ]
    },
    {
      "cell_type": "markdown",
      "metadata": {
        "id": "XubAy-fE5s7K"
      },
      "source": [
        "# Визуальные проверки нормальности"
      ]
    },
    {
      "cell_type": "markdown",
      "metadata": {
        "id": "zfTDhW5P6XCx"
      },
      "source": [
        "**График гистограммы**"
      ]
    },
    {
      "cell_type": "code",
      "metadata": {
        "colab": {
          "base_uri": "https://localhost:8080/",
          "height": 265
        },
        "id": "uv9sgO6a5x1k",
        "outputId": "1bb2d2e9-2b24-4875-c239-b0f6aa9c4cf5"
      },
      "source": [
        "from numpy.random import seed\n",
        "from numpy.random import randn\n",
        "from matplotlib import pyplot\n",
        "\n",
        "seed(1)\n",
        "\n",
        "data = 5 * randn(100) + 50\n",
        "\n",
        "pyplot.hist(data)\n",
        "pyplot.show()"
      ],
      "execution_count": 2,
      "outputs": [
        {
          "output_type": "display_data",
          "data": {
            "image/png": "[encoded data removed]",
            "text/plain": [
              "<Figure size 432x288 with 1 Axes>"
            ]
          },
          "metadata": {
            "tags": [],
            "needs_background": "light"
          }
        }
      ]
    },
    {
      "cell_type": "markdown",
      "metadata": {
        "id": "RXSQp7qv6epo"
      },
      "source": [
        "**График Квантиль-Квантиль**"
      ]
    },
    {
      "cell_type": "code",
      "metadata": {
        "colab": {
          "base_uri": "https://localhost:8080/",
          "height": 279
        },
        "id": "KIlHVZ6N6fDN",
        "outputId": "8c2534da-4a2d-474e-f0b8-425dfafe0283"
      },
      "source": [
        "from numpy.random import seed\n",
        "from numpy.random import randn\n",
        "from statsmodels.graphics.gofplots import qqplot\n",
        "from matplotlib import pyplot\n",
        "\n",
        "seed(1)\n",
        "\n",
        "data = 5 * randn(100) + 50\n",
        "\n",
        "qqplot(data, line='s')\n",
        "pyplot.show()"
      ],
      "execution_count": 3,
      "outputs": [
        {
          "output_type": "display_data",
          "data": {
            "image/png": "[encoded data removed]",
            "text/plain": [
              "<Figure size 432x288 with 1 Axes>"
            ]
          },
          "metadata": {
            "tags": [],
            "needs_background": "light"
          }
        }
      ]
    },
    {
      "cell_type": "markdown",
      "metadata": {
        "id": "SlPIlOCR7Wa3"
      },
      "source": [
        "# Статистические тесты нормальности"
      ]
    },
    {
      "cell_type": "markdown",
      "metadata": {
        "id": "hsme5Ad-7Wj7"
      },
      "source": [
        "**Тест Шапиро-Вилка**"
      ]
    },
    {
      "cell_type": "code",
      "metadata": {
        "colab": {
          "base_uri": "https://localhost:8080/"
        },
        "id": "RbxKuRbi7Y-n",
        "outputId": "c575e9d2-2b85-4654-bb08-f55531c868c5"
      },
      "source": [
        "from numpy.random import seed\n",
        "from numpy.random import randn\n",
        "from scipy.stats import shapiro\n",
        "\n",
        "seed(1)\n",
        "\n",
        "data = 5 * randn(100) + 50\n",
        "\n",
        "stat, p = shapiro(data)\n",
        "print('Statistics=%.3f, p=%.3f' % (stat, p))\n",
        "\n",
        "alpha = 0.05\n",
        "if p > alpha:\n",
        "  print('Sample looks Gaussian (fail to reject H0)')\n",
        "else:\n",
        "  print('Sample does not look Gaussian (reject H0)')"
      ],
      "execution_count": 6,
      "outputs": [
        {
          "output_type": "stream",
          "text": [
            "Statistics=0.992, p=0.822\n",
            "Sample looks Gaussian (fail to reject H0)\n"
          ],
          "name": "stdout"
        }
      ]
    },
    {
      "cell_type": "markdown",
      "metadata": {
        "id": "jWFFQIp68vwk"
      },
      "source": [
        "**Тест д'Агостино на K ^ 2**"
      ]
    },
    {
      "cell_type": "code",
      "metadata": {
        "colab": {
          "base_uri": "https://localhost:8080/"
        },
        "id": "auKCkfM486sQ",
        "outputId": "1fc59059-ac54-42e1-8a91-a848d7e28146"
      },
      "source": [
        "from numpy.random import seed\n",
        "from numpy.random import randn\n",
        "from scipy.stats import normaltest\n",
        "\n",
        "seed(1)\n",
        "\n",
        "data = 5 * randn(100) + 50\n",
        "\n",
        "stat, p = normaltest(data)\n",
        "print('Statistics=%.3f, p=%.3f' % (stat, p))\n",
        "\n",
        "alpha = 0.05\n",
        "if p > alpha:\n",
        "  print('Sample looks Gaussian (fail to reject H0)')\n",
        "else:\n",
        "  print('Sample does not look Gaussian (reject H0)')"
      ],
      "execution_count": 7,
      "outputs": [
        {
          "output_type": "stream",
          "text": [
            "Statistics=0.102, p=0.950\n",
            "Sample looks Gaussian (fail to reject H0)\n"
          ],
          "name": "stdout"
        }
      ]
    },
    {
      "cell_type": "markdown",
      "metadata": {
        "id": "qZp2tH499Ixx"
      },
      "source": [
        "**Тест Андерсона-Дарлинга**"
      ]
    },
    {
      "cell_type": "code",
      "metadata": {
        "colab": {
          "base_uri": "https://localhost:8080/"
        },
        "id": "CiA4mz_18wJx",
        "outputId": "b9556b84-e669-4451-dacd-d10d7f6a20c1"
      },
      "source": [
        "from numpy.random import seed\n",
        "from numpy.random import randn\n",
        "from scipy.stats import anderson\n",
        "\n",
        "seed(1)\n",
        "\n",
        "data = 5 * randn(100) + 50\n",
        "\n",
        "result = anderson(data)\n",
        "print('Statistics: %.3f' % result.statistic)\n",
        "p = 0\n",
        "for i in range(len(result.critical_values)):\n",
        "  sl, cv = result.significance_level[i], result.critical_values[i]\n",
        "  if result.statistic < result.critical_values[i]:\n",
        "    print('%.3f: %.3f, data looks normal (fail to reject H0)' % (sl, cv))\n",
        "  else:\n",
        "    print('%.3f: %.3f, data does not look normal (reject H0)' % (sl, cv))"
      ],
      "execution_count": 9,
      "outputs": [
        {
          "output_type": "stream",
          "text": [
            "Statistics: 0.220\n",
            "15.000: 0.555, data looks normal (fail to reject H0)\n",
            "10.000: 0.632, data looks normal (fail to reject H0)\n",
            "5.000: 0.759, data looks normal (fail to reject H0)\n",
            "2.500: 0.885, data looks normal (fail to reject H0)\n",
            "1.000: 1.053, data looks normal (fail to reject H0)\n"
          ],
          "name": "stdout"
        }
      ]
    },
    {
      "cell_type": "markdown",
      "metadata": {
        "id": "KToz4azRAXro"
      },
      "source": [
        "# *Индивидуальное задание*"
      ]
    },
    {
      "cell_type": "code",
      "metadata": {
        "id": "ROwFrgB8Ab0V"
      },
      "source": [
        "import requests\n",
        "import pandas as pd\n",
        "import seaborn as sns\n",
        "import matplotlib.pyplot as plt\n",
        "import numpy as np\n",
        "url='https://en.wikipedia.org/wiki/List_of_highest-grossing_films_in_Germany'\n",
        "req=requests.get(url)\n",
        "data=pd.read_html(req.text)\n",
        "df=data[0]"
      ],
      "execution_count": 1,
      "outputs": []
    },
    {
      "cell_type": "code",
      "metadata": {
        "colab": {
          "base_uri": "https://localhost:8080/",
          "height": 195
        },
        "id": "d0xiQkM2BT9T",
        "outputId": "7a6049cd-9635-44f9-edca-dbc51a25161d"
      },
      "source": [
        "df.head()"
      ],
      "execution_count": 2,
      "outputs": [
        {
          "output_type": "execute_result",
          "data": {
            "text/html": [
              "<div>\n",
              "<style scoped>\n",
              "    .dataframe tbody tr th:only-of-type {\n",
              "        vertical-align: middle;\n",
              "    }\n",
              "\n",
              "    .dataframe tbody tr th {\n",
              "        vertical-align: top;\n",
              "    }\n",
              "\n",
              "    .dataframe thead th {\n",
              "        text-align: right;\n",
              "    }\n",
              "</style>\n",
              "<table border=\"1\" class=\"dataframe\">\n",
              "  <thead>\n",
              "    <tr style=\"text-align: right;\">\n",
              "      <th></th>\n",
              "      <th>Rank</th>\n",
              "      <th>Title</th>\n",
              "      <th>Film</th>\n",
              "      <th>Admissions[1]</th>\n",
              "    </tr>\n",
              "  </thead>\n",
              "  <tbody>\n",
              "    <tr>\n",
              "      <th>0</th>\n",
              "      <td>1</td>\n",
              "      <td>The Jungle Book</td>\n",
              "      <td>1968</td>\n",
              "      <td>27290763</td>\n",
              "    </tr>\n",
              "    <tr>\n",
              "      <th>1</th>\n",
              "      <td>2</td>\n",
              "      <td>Titanic</td>\n",
              "      <td>1998</td>\n",
              "      <td>18812740</td>\n",
              "    </tr>\n",
              "    <tr>\n",
              "      <th>2</th>\n",
              "      <td>3</td>\n",
              "      <td>Once Upon a Time in the West</td>\n",
              "      <td>1969</td>\n",
              "      <td>13012746</td>\n",
              "    </tr>\n",
              "    <tr>\n",
              "      <th>3</th>\n",
              "      <td>4</td>\n",
              "      <td>Doctor Zhivago</td>\n",
              "      <td>1966</td>\n",
              "      <td>12750000</td>\n",
              "    </tr>\n",
              "    <tr>\n",
              "      <th>4</th>\n",
              "      <td>5</td>\n",
              "      <td>Harry Potter and the Philosopher's Stone</td>\n",
              "      <td>2001</td>\n",
              "      <td>12595323</td>\n",
              "    </tr>\n",
              "  </tbody>\n",
              "</table>\n",
              "</div>"
            ],
            "text/plain": [
              "   Rank                                     Title  Film  Admissions[1]\n",
              "0     1                           The Jungle Book  1968       27290763\n",
              "1     2                                   Titanic  1998       18812740\n",
              "2     3              Once Upon a Time in the West  1969       13012746\n",
              "3     4                            Doctor Zhivago  1966       12750000\n",
              "4     5  Harry Potter and the Philosopher's Stone  2001       12595323"
            ]
          },
          "metadata": {
            "tags": []
          },
          "execution_count": 2
        }
      ]
    },
    {
      "cell_type": "code",
      "metadata": {
        "colab": {
          "base_uri": "https://localhost:8080/",
          "height": 195
        },
        "id": "_jWV4PObCsjO",
        "outputId": "d4d48e30-237b-4c93-bf46-caaaa06734c9"
      },
      "source": [
        "df1 = df.rename(columns={'Film': 'Year', 'Admissions[1]': 'Admissions'})\n",
        "df1.head()"
      ],
      "execution_count": 3,
      "outputs": [
        {
          "output_type": "execute_result",
          "data": {
            "text/html": [
              "<div>\n",
              "<style scoped>\n",
              "    .dataframe tbody tr th:only-of-type {\n",
              "        vertical-align: middle;\n",
              "    }\n",
              "\n",
              "    .dataframe tbody tr th {\n",
              "        vertical-align: top;\n",
              "    }\n",
              "\n",
              "    .dataframe thead th {\n",
              "        text-align: right;\n",
              "    }\n",
              "</style>\n",
              "<table border=\"1\" class=\"dataframe\">\n",
              "  <thead>\n",
              "    <tr style=\"text-align: right;\">\n",
              "      <th></th>\n",
              "      <th>Rank</th>\n",
              "      <th>Title</th>\n",
              "      <th>Year</th>\n",
              "      <th>Admissions</th>\n",
              "    </tr>\n",
              "  </thead>\n",
              "  <tbody>\n",
              "    <tr>\n",
              "      <th>0</th>\n",
              "      <td>1</td>\n",
              "      <td>The Jungle Book</td>\n",
              "      <td>1968</td>\n",
              "      <td>27290763</td>\n",
              "    </tr>\n",
              "    <tr>\n",
              "      <th>1</th>\n",
              "      <td>2</td>\n",
              "      <td>Titanic</td>\n",
              "      <td>1998</td>\n",
              "      <td>18812740</td>\n",
              "    </tr>\n",
              "    <tr>\n",
              "      <th>2</th>\n",
              "      <td>3</td>\n",
              "      <td>Once Upon a Time in the West</td>\n",
              "      <td>1969</td>\n",
              "      <td>13012746</td>\n",
              "    </tr>\n",
              "    <tr>\n",
              "      <th>3</th>\n",
              "      <td>4</td>\n",
              "      <td>Doctor Zhivago</td>\n",
              "      <td>1966</td>\n",
              "      <td>12750000</td>\n",
              "    </tr>\n",
              "    <tr>\n",
              "      <th>4</th>\n",
              "      <td>5</td>\n",
              "      <td>Harry Potter and the Philosopher's Stone</td>\n",
              "      <td>2001</td>\n",
              "      <td>12595323</td>\n",
              "    </tr>\n",
              "  </tbody>\n",
              "</table>\n",
              "</div>"
            ],
            "text/plain": [
              "   Rank                                     Title  Year  Admissions\n",
              "0     1                           The Jungle Book  1968    27290763\n",
              "1     2                                   Titanic  1998    18812740\n",
              "2     3              Once Upon a Time in the West  1969    13012746\n",
              "3     4                            Doctor Zhivago  1966    12750000\n",
              "4     5  Harry Potter and the Philosopher's Stone  2001    12595323"
            ]
          },
          "metadata": {
            "tags": []
          },
          "execution_count": 3
        }
      ]
    },
    {
      "cell_type": "code",
      "metadata": {
        "colab": {
          "base_uri": "https://localhost:8080/"
        },
        "id": "Pl12iVx9BYNE",
        "outputId": "915aa92e-5007-49ea-83d0-190d842bc05b"
      },
      "source": [
        "df.info()"
      ],
      "execution_count": 4,
      "outputs": [
        {
          "output_type": "stream",
          "text": [
            "<class 'pandas.core.frame.DataFrame'>\n",
            "RangeIndex: 30 entries, 0 to 29\n",
            "Data columns (total 4 columns):\n",
            " #   Column         Non-Null Count  Dtype \n",
            "---  ------         --------------  ----- \n",
            " 0   Rank           30 non-null     int64 \n",
            " 1   Title          30 non-null     object\n",
            " 2   Film           30 non-null     int64 \n",
            " 3   Admissions[1]  30 non-null     int64 \n",
            "dtypes: int64(3), object(1)\n",
            "memory usage: 1.1+ KB\n"
          ],
          "name": "stdout"
        }
      ]
    },
    {
      "cell_type": "code",
      "metadata": {
        "colab": {
          "base_uri": "https://localhost:8080/"
        },
        "id": "pX0-X-eIBrMh",
        "outputId": "a6d49b62-adb3-485f-a826-edd1ab893001"
      },
      "source": [
        "df.isna().sum()"
      ],
      "execution_count": 5,
      "outputs": [
        {
          "output_type": "execute_result",
          "data": {
            "text/plain": [
              "Rank             0\n",
              "Title            0\n",
              "Film             0\n",
              "Admissions[1]    0\n",
              "dtype: int64"
            ]
          },
          "metadata": {
            "tags": []
          },
          "execution_count": 5
        }
      ]
    },
    {
      "cell_type": "code",
      "metadata": {
        "colab": {
          "base_uri": "https://localhost:8080/",
          "height": 195
        },
        "id": "G98toTnpCh7S",
        "outputId": "e97ae148-216c-4bce-f5b3-8aab6bd1afd4"
      },
      "source": [
        "df2 = df1[['Admissions','Year']].sort_values(ascending=False,by='Admissions')\n",
        "df2.head()"
      ],
      "execution_count": 6,
      "outputs": [
        {
          "output_type": "execute_result",
          "data": {
            "text/html": [
              "<div>\n",
              "<style scoped>\n",
              "    .dataframe tbody tr th:only-of-type {\n",
              "        vertical-align: middle;\n",
              "    }\n",
              "\n",
              "    .dataframe tbody tr th {\n",
              "        vertical-align: top;\n",
              "    }\n",
              "\n",
              "    .dataframe thead th {\n",
              "        text-align: right;\n",
              "    }\n",
              "</style>\n",
              "<table border=\"1\" class=\"dataframe\">\n",
              "  <thead>\n",
              "    <tr style=\"text-align: right;\">\n",
              "      <th></th>\n",
              "      <th>Admissions</th>\n",
              "      <th>Year</th>\n",
              "    </tr>\n",
              "  </thead>\n",
              "  <tbody>\n",
              "    <tr>\n",
              "      <th>0</th>\n",
              "      <td>27290763</td>\n",
              "      <td>1968</td>\n",
              "    </tr>\n",
              "    <tr>\n",
              "      <th>1</th>\n",
              "      <td>18812740</td>\n",
              "      <td>1998</td>\n",
              "    </tr>\n",
              "    <tr>\n",
              "      <th>2</th>\n",
              "      <td>13012746</td>\n",
              "      <td>1969</td>\n",
              "    </tr>\n",
              "    <tr>\n",
              "      <th>3</th>\n",
              "      <td>12750000</td>\n",
              "      <td>1966</td>\n",
              "    </tr>\n",
              "    <tr>\n",
              "      <th>4</th>\n",
              "      <td>12595323</td>\n",
              "      <td>2001</td>\n",
              "    </tr>\n",
              "  </tbody>\n",
              "</table>\n",
              "</div>"
            ],
            "text/plain": [
              "   Admissions  Year\n",
              "0    27290763  1968\n",
              "1    18812740  1998\n",
              "2    13012746  1969\n",
              "3    12750000  1966\n",
              "4    12595323  2001"
            ]
          },
          "metadata": {
            "tags": []
          },
          "execution_count": 6
        }
      ]
    },
    {
      "cell_type": "code",
      "metadata": {
        "colab": {
          "base_uri": "https://localhost:8080/"
        },
        "id": "BRAlUzycDk9P",
        "outputId": "beec430f-6045-44fd-f185-57a550bc3ac8"
      },
      "source": [
        "n_admissions = df2['Admissions'].to_numpy()\n",
        "n_year = df2['Year'].to_numpy()\n",
        "n_admissions"
      ],
      "execution_count": 7,
      "outputs": [
        {
          "output_type": "execute_result",
          "data": {
            "text/plain": [
              "array([27290763, 18812740, 13012746, 12750000, 12595323, 12267000,\n",
              "       11930785, 11899893, 11721183, 11311518, 11294126, 11250000,\n",
              "       11000000, 10753596, 10625337, 10442102, 10250000, 10000000,\n",
              "       10000000,  9767049,  9728779,  9395450,  9272424,  9165932,\n",
              "        9162715,  9060311,  9000000,  8962516,  8839084,  8823781])"
            ]
          },
          "metadata": {
            "tags": []
          },
          "execution_count": 7
        }
      ]
    },
    {
      "cell_type": "code",
      "metadata": {
        "colab": {
          "base_uri": "https://localhost:8080/"
        },
        "id": "llPYY1oVAxMS",
        "outputId": "0dee60c2-2488-4553-a3ea-2ea5a0857f88"
      },
      "source": [
        "n_year"
      ],
      "execution_count": 23,
      "outputs": [
        {
          "output_type": "execute_result",
          "data": {
            "text/plain": [
              "array([1968, 1998, 1969, 1966, 2001, 1972, 2001, 1994, 2001, 2009, 1971,\n",
              "       1965, 1964, 2002, 1990, 2003, 1965, 1962, 1963, 1977, 2002, 1993,\n",
              "       1996, 2004, 2012, 2015, 1967, 1999, 2003, 1987])"
            ]
          },
          "metadata": {
            "tags": []
          },
          "execution_count": 23
        }
      ]
    },
    {
      "cell_type": "markdown",
      "metadata": {
        "id": "GbXfKY4PcUQK"
      },
      "source": [
        "# Визуальные проверки нормальности"
      ]
    },
    {
      "cell_type": "markdown",
      "metadata": {
        "id": "nVy38mnzcUeN"
      },
      "source": [
        "**График гистограммы**"
      ]
    },
    {
      "cell_type": "code",
      "metadata": {
        "colab": {
          "base_uri": "https://localhost:8080/",
          "height": 295
        },
        "id": "3JylwRjbclPH",
        "outputId": "f068cf26-ed21-4842-84ca-28ef4abebd66"
      },
      "source": [
        "from matplotlib import pyplot\n",
        "n_admissions_sort = np.sort(n_admissions)\n",
        "fig, ax = plt.subplots()\n",
        "ax.hist(n_admissions_sort)\n",
        "ax.set_xlabel('Посещяемость')\n",
        "ax.set_ylabel('Частота')\n",
        "ax.set_title('Проверка данных на нормальность')\n",
        "ax.grid(True)\n",
        "pyplot.show()"
      ],
      "execution_count": 8,
      "outputs": [
        {
          "output_type": "display_data",
          "data": {
            "image/png": "[encoded data removed]",
            "text/plain": [
              "<Figure size 432x288 with 1 Axes>"
            ]
          },
          "metadata": {
            "tags": [],
            "needs_background": "light"
          }
        }
      ]
    },
    {
      "cell_type": "code",
      "metadata": {
        "colab": {
          "base_uri": "https://localhost:8080/",
          "height": 295
        },
        "id": "-9pdocUneWI_",
        "outputId": "1e81fe9e-b26d-40d9-e17e-1cd3c6d61e14"
      },
      "source": [
        "n_year_sort = np.sort(n_year)\n",
        "fig, ax = plt.subplots()\n",
        "ax.hist(n_year_sort)\n",
        "ax.set_xlabel('Года')\n",
        "ax.set_ylabel('Частота')\n",
        "ax.set_title('Проверка данных на нормальность')\n",
        "ax.grid(True)\n",
        "pyplot.show()"
      ],
      "execution_count": 14,
      "outputs": [
        {
          "output_type": "display_data",
          "data": {
            "image/png": "[encoded data removed]",
            "text/plain": [
              "<Figure size 432x288 with 1 Axes>"
            ]
          },
          "metadata": {
            "tags": [],
            "needs_background": "light"
          }
        }
      ]
    },
    {
      "cell_type": "markdown",
      "metadata": {
        "id": "UcAZ-s0vccld"
      },
      "source": [
        "**График Квантиль-Квантиль**"
      ]
    },
    {
      "cell_type": "code",
      "metadata": {
        "colab": {
          "base_uri": "https://localhost:8080/",
          "height": 295
        },
        "id": "b9mN-8grBrUf",
        "outputId": "dedbc3cf-0c04-481b-d997-d1ae4ca07802"
      },
      "source": [
        "from statsmodels.graphics.gofplots import qqplot\n",
        "from matplotlib import pyplot\n",
        "\n",
        "qqplot(n_admissions_sort, line = 's')\n",
        "pyplot.title('Проверка данных на нормальность')\n",
        "pyplot.show()"
      ],
      "execution_count": 15,
      "outputs": [
        {
          "output_type": "display_data",
          "data": {
            "image/png": "[encoded data removed]",
            "text/plain": [
              "<Figure size 432x288 with 1 Axes>"
            ]
          },
          "metadata": {
            "tags": [],
            "needs_background": "light"
          }
        }
      ]
    },
    {
      "cell_type": "code",
      "metadata": {
        "colab": {
          "base_uri": "https://localhost:8080/",
          "height": 295
        },
        "id": "hfJHEZFW9lmA",
        "outputId": "bb9c2cbb-a9c2-4fc1-d65a-ff6041b1844c"
      },
      "source": [
        "from statsmodels.graphics.gofplots import qqplot\n",
        "from matplotlib import pyplot\n",
        "\n",
        "qqplot(n_year_sort, line = 's')\n",
        "pyplot.title('Проверка данных на нормальность')\n",
        "pyplot.show()"
      ],
      "execution_count": 16,
      "outputs": [
        {
          "output_type": "display_data",
          "data": {
            "image/png": "[encoded data removed]",
            "text/plain": [
              "<Figure size 432x288 with 1 Axes>"
            ]
          },
          "metadata": {
            "tags": [],
            "needs_background": "light"
          }
        }
      ]
    },
    {
      "cell_type": "markdown",
      "metadata": {
        "id": "7ZJdo7U49B2B"
      },
      "source": [
        "# Статистические тесты нормальности"
      ]
    },
    {
      "cell_type": "markdown",
      "metadata": {
        "id": "fGoGmm0_9Qcp"
      },
      "source": [
        "**Тест Шапиро-Вилка**"
      ]
    },
    {
      "cell_type": "code",
      "metadata": {
        "colab": {
          "base_uri": "https://localhost:8080/"
        },
        "id": "dLHRu3qM92T8",
        "outputId": "9c15c466-f720-451e-f604-4434eef87dbc"
      },
      "source": [
        "from scipy.stats import shapiro\n",
        "\n",
        "stat, p = shapiro(n_admissions_sort)\n",
        "print('Statistics=%.3f, p = %.3f' % (stat, p))\n",
        "\n",
        "alpha = 0.05\n",
        "if p > alpha:\n",
        "  print('Sample looks Gaussian (fail to reject HO)')\n",
        "else:\n",
        "  print('Sample does not look Gaussian (reject HO)')"
      ],
      "execution_count": 17,
      "outputs": [
        {
          "output_type": "stream",
          "text": [
            "Statistics=0.599, p = 0.000\n",
            "Sample does not look Gaussian (reject HO)\n"
          ],
          "name": "stdout"
        }
      ]
    },
    {
      "cell_type": "code",
      "metadata": {
        "colab": {
          "base_uri": "https://localhost:8080/"
        },
        "id": "I8pmH8zr-ElU",
        "outputId": "5467d90b-18ad-4380-86f2-d9f324cd558a"
      },
      "source": [
        "from scipy.stats import shapiro\n",
        "\n",
        "stat, p = shapiro(n_year_sort)\n",
        "print('Statistics=%.3f, p = %.3f' % (stat, p))\n",
        "\n",
        "alpha = 0.05\n",
        "if p > alpha:\n",
        "  print('Sample looks Gaussian (fail to reject HO)')\n",
        "else:\n",
        "  print('Sample does not look Gaussian (reject HO)')"
      ],
      "execution_count": 18,
      "outputs": [
        {
          "output_type": "stream",
          "text": [
            "Statistics=0.877, p = 0.002\n",
            "Sample does not look Gaussian (reject HO)\n"
          ],
          "name": "stdout"
        }
      ]
    },
    {
      "cell_type": "markdown",
      "metadata": {
        "id": "d_bHnIlo-b4S"
      },
      "source": [
        "**Тест д'Агостино на K ^ 2**"
      ]
    },
    {
      "cell_type": "code",
      "metadata": {
        "colab": {
          "base_uri": "https://localhost:8080/"
        },
        "id": "coQn5lA5-qtA",
        "outputId": "24d3cca8-a8b7-474b-dd67-c0128e2a7ac7"
      },
      "source": [
        "from scipy.stats import normaltest\n",
        "\n",
        "\n",
        "stat, p = normaltest(n_admissions_sort)\n",
        "print('Statistics=%.3f, p=%.3f' % (stat, p))\n",
        "\n",
        "alpha = 0.05\n",
        "if p > alpha:\n",
        "  print('Sample looks Gaussian (fail to reject H0)')\n",
        "else:\n",
        "  print('Sample does not look Gaussian (reject H0)')"
      ],
      "execution_count": 19,
      "outputs": [
        {
          "output_type": "stream",
          "text": [
            "Statistics=47.420, p=0.000\n",
            "Sample does not look Gaussian (reject H0)\n"
          ],
          "name": "stdout"
        }
      ]
    },
    {
      "cell_type": "code",
      "metadata": {
        "colab": {
          "base_uri": "https://localhost:8080/"
        },
        "id": "ERCGyM16-y0P",
        "outputId": "f496e41b-0fbd-45f7-aa7f-d3b253f2a46d"
      },
      "source": [
        "from scipy.stats import normaltest\n",
        "\n",
        "\n",
        "stat, p = normaltest(n_year_sort)\n",
        "print('Statistics=%.3f, p=%.3f' % (stat, p))\n",
        "\n",
        "alpha = 0.05\n",
        "if p > alpha:\n",
        "  print('Sample looks Gaussian (fail to reject H0)')\n",
        "else:\n",
        "  print('Sample does not look Gaussian (reject H0)')"
      ],
      "execution_count": 20,
      "outputs": [
        {
          "output_type": "stream",
          "text": [
            "Statistics=18.660, p=0.000\n",
            "Sample does not look Gaussian (reject H0)\n"
          ],
          "name": "stdout"
        }
      ]
    },
    {
      "cell_type": "markdown",
      "metadata": {
        "id": "SA5wE1yr-cw2"
      },
      "source": [
        "**Тест Андерсона-Дарлинга**"
      ]
    },
    {
      "cell_type": "code",
      "metadata": {
        "colab": {
          "base_uri": "https://localhost:8080/"
        },
        "id": "ZEQPtOpoABMR",
        "outputId": "cf7986dd-5cd4-49ab-ae82-693d0d522951"
      },
      "source": [
        "from scipy.stats import anderson\n",
        "\n",
        "result = anderson(n_admissions_sort)\n",
        "print('Statistics: %.3f' % result.statistic)\n",
        "p = 0\n",
        "\n",
        "for i in range(len(result.critical_values)):\n",
        "  sl, cv = result.significance_level[i], result.critical_values[i]\n",
        "  if result.statistic < result.critical_values[i]:\n",
        "    print('%.3f: %.3f, data looks normal (fail to reject H0)' % (sl, cv))\n",
        "  else:\n",
        "    print('%.3f: %.3f, data does not look normal (reject H0)' % (sl, cv))"
      ],
      "execution_count": 21,
      "outputs": [
        {
          "output_type": "stream",
          "text": [
            "Statistics: 3.530\n",
            "15.000: 0.521, data does not look normal (reject H0)\n",
            "10.000: 0.593, data does not look normal (reject H0)\n",
            "5.000: 0.712, data does not look normal (reject H0)\n",
            "2.500: 0.830, data does not look normal (reject H0)\n",
            "1.000: 0.988, data does not look normal (reject H0)\n"
          ],
          "name": "stdout"
        }
      ]
    },
    {
      "cell_type": "code",
      "metadata": {
        "colab": {
          "base_uri": "https://localhost:8080/"
        },
        "id": "NfxeZ20uAP7r",
        "outputId": "836f7674-4f44-487c-a2b9-dd05f0521485"
      },
      "source": [
        "from scipy.stats import anderson\n",
        "\n",
        "result = anderson(n_year_sort)\n",
        "print('Statistics: %.3f' % result.statistic)\n",
        "p = 0\n",
        "\n",
        "for i in range(len(result.critical_values)):\n",
        "  sl, cv = result.significance_level[i], result.critical_values[i]\n",
        "  if result.statistic < result.critical_values[i]:\n",
        "    print('%.3f: %.3f, data looks normal (fail to reject H0)' % (sl, cv))\n",
        "  else:\n",
        "    print('%.3f: %.3f, data does not look normal (reject H0)' % (sl, cv))"
      ],
      "execution_count": 22,
      "outputs": [
        {
          "output_type": "stream",
          "text": [
            "Statistics: 1.538\n",
            "15.000: 0.521, data does not look normal (reject H0)\n",
            "10.000: 0.593, data does not look normal (reject H0)\n",
            "5.000: 0.712, data does not look normal (reject H0)\n",
            "2.500: 0.830, data does not look normal (reject H0)\n",
            "1.000: 0.988, data does not look normal (reject H0)\n"
          ],
          "name": "stdout"
        }
      ]
    },
    {
      "cell_type": "markdown",
      "metadata": {
        "id": "goI5731aE7Mh"
      },
      "source": [
        "**Вывод**"
      ]
    },
    {
      "cell_type": "markdown",
      "metadata": {
        "id": "Ndc-qQcMFLoN"
      },
      "source": [
        "Тесты и графики показали, что данные по году и посещяемости не являются нормальными"
      ]
    }
  ]
}