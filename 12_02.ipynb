{
  "nbformat": 4,
  "nbformat_minor": 0,
  "metadata": {
    "colab": {
      "name": "12.02.ipynb",
      "provenance": [],
      "authorship_tag": "ABX9TyNVf+6N+kVqCYRNcHqD+/Nc",
      "include_colab_link": true
    },
    "kernelspec": {
      "name": "python3",
      "display_name": "Python 3"
    }
  },
  "cells": [
    {
      "cell_type": "markdown",
      "metadata": {
        "id": "view-in-github",
        "colab_type": "text"
      },
      "source": [
        "<a href=\"https://colab.research.google.com/github/Elizaveta0803/LabAnalitika/blob/main/12_02.ipynb\" target=\"_parent\"><img src=\"https://colab.research.google.com/assets/colab-badge.svg\" alt=\"Open In Colab\"/></a>"
      ]
    },
    {
      "cell_type": "markdown",
      "metadata": {
        "id": "VqINlrLm_J5x"
      },
      "source": [
        "1.4. Считайте 2 числа n, m. Создайте вектор Z состоящий из чисел от n до m с шагом 1"
      ]
    },
    {
      "cell_type": "code",
      "metadata": {
        "colab": {
          "base_uri": "https://localhost:8080/"
        },
        "id": "mLb6wz552_B0",
        "outputId": "dd129064-627b-4777-b84b-5dec67ebccb1"
      },
      "source": [
        "import numpy as np\r\n",
        "n = 10\r\n",
        "m = 50\r\n",
        "Z = np.arange(n, m+1)\r\n",
        "print(Z)\r\n"
      ],
      "execution_count": null,
      "outputs": [
        {
          "output_type": "stream",
          "text": [
            "[10 11 12 13 14 15 16 17 18 19 20 21 22 23 24 25 26 27 28 29 30 31 32 33\n",
            " 34 35 36 37 38 39 40 41 42 43 44 45 46 47 48 49 50]\n"
          ],
          "name": "stdout"
        }
      ]
    },
    {
      "cell_type": "code",
      "metadata": {
        "id": "MXbZJkApUzeO"
      },
      "source": [
        "def time_arange(size):\r\n",
        "        n = 10\r\n",
        "        m = 50\r\n",
        "        for i in range(n, m+1):\r\n",
        "                print(x, end=' ')\r\n",
        "\r\n",
        "print()\r\n"
      ],
      "execution_count": null,
      "outputs": []
    },
    {
      "cell_type": "code",
      "metadata": {
        "id": "JZT_TBwhTQFg"
      },
      "source": [
        "import timeit\r\n",
        "import numpy as np\r\n",
        "\r\n",
        "\r\n",
        "def time_arange(size):\r\n",
        "        n = 10 * size\r\n",
        "        m = 50 * size\r\n",
        "        np.arange(n, m+1)\r\n",
        "\r\n",
        "\r\n",
        "def time_range(size):\r\n",
        "        for x in range(10 * size, 51 * size):\r\n",
        "                pass\r\n",
        "\r\n",
        "if __name__ == '__main__':\r\n",
        "        start_time = timeit.default_timer()\r\n",
        "        time_range(1000)\r\n",
        "        range_time_1 = timeit.default_timer() - start_time\r\n",
        "\r\n",
        "        start_time = timeit.default_timer()\r\n",
        "        time_arange(1000)\r\n",
        "        arange_time_1 = timeit.default_timer() - start_time\r\n",
        "\r\n",
        "        start_time = timeit.default_timer()\r\n",
        "        time_range(1000000)\r\n",
        "        range_time_2 = timeit.default_timer() - start_time\r\n",
        "\r\n",
        "        start_time = timeit.default_timer()\r\n",
        "        time_arange(1000000)\r\n",
        "        arange_time_2 = timeit.default_timer() - start_time\r\n"
      ],
      "execution_count": null,
      "outputs": []
    },
    {
      "cell_type": "code",
      "metadata": {
        "colab": {
          "base_uri": "https://localhost:8080/"
        },
        "id": "jPIEmXhVFMZj",
        "outputId": "b8fb0482-cff9-4f1a-d658-1bc2434c00ff"
      },
      "source": [
        "print('Array size: 1000')\r\n",
        "\r\n",
        "print(f'size 1000: range() время {range_time_1}')\r\n",
        "print(f'size 1000: arange() время {arange_time_1}')\r\n",
        "\r\n",
        "print('Array size: 100000000')\r\n",
        "print(f'size 100000000: range() время {range_time_2}')\r\n",
        "print(f'size 100000000: arange() время {arange_time_2}')\r\n"
      ],
      "execution_count": null,
      "outputs": [
        {
          "output_type": "stream",
          "text": [
            "Array size: 1000\n",
            "size 1000: range() время 0.0008025839999987738\n",
            "size 1000: arange() время 0.0005170740000011165\n",
            "Array size: 100000000\n",
            "size 100000000: range() время 0.8612092890000014\n",
            "size 100000000: arange() время 0.1711963399999945\n"
          ],
          "name": "stdout"
        }
      ]
    },
    {
      "cell_type": "markdown",
      "metadata": {
        "id": "l5RDiVRqSB9F"
      },
      "source": [
        "Вывод: С большими массивами лучше и быстрее справляется Numpy "
      ]
    }
  ]
}