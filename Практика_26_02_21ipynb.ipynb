{
  "nbformat": 4,
  "nbformat_minor": 0,
  "metadata": {
    "colab": {
      "name": "Практика 26.02.21ipynb",
      "provenance": [],
      "authorship_tag": "ABX9TyPZCzeh4lxeUAY0LFU4zUPV",
      "include_colab_link": true
    },
    "kernelspec": {
      "name": "python3",
      "display_name": "Python 3"
    },
    "language_info": {
      "name": "python"
    }
  },
  "cells": [
    {
      "cell_type": "markdown",
      "metadata": {
        "id": "view-in-github",
        "colab_type": "text"
      },
      "source": [
        "<a href=\"https://colab.research.google.com/github/Elizaveta0803/LabAnalitika/blob/main/%D0%9F%D1%80%D0%B0%D0%BA%D1%82%D0%B8%D0%BA%D0%B0_26_02_21ipynb.ipynb\" target=\"_parent\"><img src=\"https://colab.research.google.com/assets/colab-badge.svg\" alt=\"Open In Colab\"/></a>"
      ]
    },
    {
      "cell_type": "markdown",
      "metadata": {
        "id": "Qqe9H2HEcr7t"
      },
      "source": [
        "# 1. ЛИНЕЙНАЯ АЛГЕБРА scipy.linalg"
      ]
    },
    {
      "cell_type": "code",
      "metadata": {
        "id": "JYGhqV2xcvOL"
      },
      "source": [
        "import numpy as np\n",
        "import matplotlib.pyplot as plt\n",
        "from scipy import linalg\n"
      ],
      "execution_count": 1,
      "outputs": []
    },
    {
      "cell_type": "code",
      "metadata": {
        "colab": {
          "base_uri": "https://localhost:8080/"
        },
        "id": "bPX6D4VCcvVW",
        "outputId": "870b4da4-fb52-484e-ab46-3d5aeea22078"
      },
      "source": [
        "arr = np.array([[1,2],[3, 4]])\n",
        "linalg.det(arr)"
      ],
      "execution_count": 2,
      "outputs": [
        {
          "output_type": "execute_result",
          "data": {
            "text/plain": [
              "-2.0"
            ]
          },
          "metadata": {
            "tags": []
          },
          "execution_count": 2
        }
      ]
    },
    {
      "cell_type": "code",
      "metadata": {
        "colab": {
          "base_uri": "https://localhost:8080/"
        },
        "id": "Y-ddkuzdcvYH",
        "outputId": "f47efd47-f68b-4135-c93a-02403bfdfb60"
      },
      "source": [
        "arr = np.array([[3, 2],[6, 4]])\n",
        "linalg.det(arr)"
      ],
      "execution_count": 3,
      "outputs": [
        {
          "output_type": "execute_result",
          "data": {
            "text/plain": [
              "0.0"
            ]
          },
          "metadata": {
            "tags": []
          },
          "execution_count": 3
        }
      ]
    },
    {
      "cell_type": "code",
      "metadata": {
        "colab": {
          "base_uri": "https://localhost:8080/"
        },
        "id": "gdGvVe7ocvbO",
        "outputId": "6e4853db-9696-41c5-b7b4-1492e9b58ae1"
      },
      "source": [
        "arr = np.array([[1,2],[3, 4]])\n",
        "iarr = linalg.inv(arr)\n",
        "iarr"
      ],
      "execution_count": 4,
      "outputs": [
        {
          "output_type": "execute_result",
          "data": {
            "text/plain": [
              "array([[-2. ,  1. ],\n",
              "       [ 1.5, -0.5]])"
            ]
          },
          "metadata": {
            "tags": []
          },
          "execution_count": 4
        }
      ]
    },
    {
      "cell_type": "markdown",
      "metadata": {
        "id": "y3eqg18yc1P3"
      },
      "source": [
        "# SPICY.INTERPOLATE"
      ]
    },
    {
      "cell_type": "code",
      "metadata": {
        "colab": {
          "base_uri": "https://localhost:8080/"
        },
        "id": "CQKcrMG2c30w",
        "outputId": "215ff66b-42f0-47de-ac9d-195c43703a89"
      },
      "source": [
        "import numpy as np\n",
        "import matplotlib.pyplot as plt\n",
        "from scipy import interpolate\n",
        "x = np.linspace(0, 4, 12)\n",
        "y = np.cos(x**2/3+4)\n",
        "print(x, y)"
      ],
      "execution_count": 5,
      "outputs": [
        {
          "output_type": "stream",
          "text": [
            "[0.         0.36363636 0.72727273 1.09090909 1.45454545 1.81818182\n",
            " 2.18181818 2.54545455 2.90909091 3.27272727 3.63636364 4.        ] [-0.65364362 -0.61966189 -0.51077021 -0.31047698 -0.00715476  0.37976236\n",
            "  0.76715099  0.99239518  0.85886263  0.27994201 -0.52586509 -0.99582185]\n"
          ],
          "name": "stdout"
        }
      ]
    },
    {
      "cell_type": "code",
      "metadata": {
        "colab": {
          "base_uri": "https://localhost:8080/",
          "height": 282
        },
        "id": "SVyuSmuKc37W",
        "outputId": "b443cead-1655-44a3-9932-1317c80b196d"
      },
      "source": [
        "plt.plot(x, y, \"o\")"
      ],
      "execution_count": 6,
      "outputs": [
        {
          "output_type": "execute_result",
          "data": {
            "text/plain": [
              "[<matplotlib.lines.Line2D at 0x7f5f658fdad0>]"
            ]
          },
          "metadata": {
            "tags": []
          },
          "execution_count": 6
        },
        {
          "output_type": "display_data",
          "data": {
            "image/png": "[encoded data removed]",
            "text/plain": [
              "<Figure size 432x288 with 1 Axes>"
            ]
          },
          "metadata": {
            "tags": [],
            "needs_background": "light"
          }
        }
      ]
    },
    {
      "cell_type": "code",
      "metadata": {
        "id": "i3dw3v2qcZvu"
      },
      "source": [
        "from scipy.interpolate import interp1d\n",
        "f1 = interp1d(x, y, kind = 'linear')\n",
        "f2 = interp1d(x, y, kind = 'cubic')"
      ],
      "execution_count": 7,
      "outputs": []
    },
    {
      "cell_type": "code",
      "metadata": {
        "colab": {
          "base_uri": "https://localhost:8080/",
          "height": 265
        },
        "id": "9pZ3i1V3c_LQ",
        "outputId": "a2e2cf35-0e55-46f8-c638-8a17c91ae103"
      },
      "source": [
        "xnew = np.linspace(0, 4, 30)\n",
        "plt.plot(x, y, \"o\", xnew, f1(xnew), \"-\", xnew, f2(xnew),\"--\")\n",
        "plt.legend([\"data\", \"linear\", \"cubic\", \"nearest\"], loc = \"best\")\n",
        "plt.show()"
      ],
      "execution_count": 8,
      "outputs": [
        {
          "output_type": "display_data",
          "data": {
            "image/png": "[encoded data removed]",
            "text/plain": [
              "<Figure size 432x288 with 1 Axes>"
            ]
          },
          "metadata": {
            "tags": [],
            "needs_background": "light"
          }
        }
      ]
    },
    {
      "cell_type": "markdown",
      "metadata": {
        "id": "zIxNpfMBdD3L"
      },
      "source": [
        "# Сплайны"
      ]
    },
    {
      "cell_type": "code",
      "metadata": {
        "colab": {
          "base_uri": "https://localhost:8080/",
          "height": 265
        },
        "id": "oTAWMYSidExm",
        "outputId": "e27da6ee-a1ff-4c53-ae13-7b65318b968e"
      },
      "source": [
        "import matplotlib.pyplot as plt\n",
        "from scipy.interpolate import UnivariateSpline\n",
        "x = np.linspace(-3, 3, 50)\n",
        "y = np.exp(-x**2) + 0.1 * np.random.randn(50)\n",
        "plt.plot(x, y, 'ro', ms = 5)\n",
        "plt.show()"
      ],
      "execution_count": 9,
      "outputs": [
        {
          "output_type": "display_data",
          "data": {
            "image/png": "[encoded data removed]",
            "text/plain": [
              "<Figure size 432x288 with 1 Axes>"
            ]
          },
          "metadata": {
            "tags": [],
            "needs_background": "light"
          }
        }
      ]
    },
    {
      "cell_type": "code",
      "metadata": {
        "colab": {
          "base_uri": "https://localhost:8080/",
          "height": 265
        },
        "id": "Q2hMeMO7dE03",
        "outputId": "93f103d3-3c5d-4ab5-d392-f4b37a3837fb"
      },
      "source": [
        "spl = UnivariateSpline(x, y)\n",
        "xs = np.linspace(-3, 3, 1000)\n",
        "plt.plot(xs, spl(xs), 'g', lw = 3)\n",
        "plt.show()"
      ],
      "execution_count": 10,
      "outputs": [
        {
          "output_type": "display_data",
          "data": {
            "image/png": "[encoded data removed]",
            "text/plain": [
              "<Figure size 432x288 with 1 Axes>"
            ]
          },
          "metadata": {
            "tags": [],
            "needs_background": "light"
          }
        }
      ]
    },
    {
      "cell_type": "markdown",
      "metadata": {
        "id": "IjJYAn_WdKnj"
      },
      "source": [
        "# ОПТИМИЗАЦИЯ И ПОДГОНКА"
      ]
    },
    {
      "cell_type": "code",
      "metadata": {
        "colab": {
          "base_uri": "https://localhost:8080/",
          "height": 282
        },
        "id": "yZUK0eBWdE4m",
        "outputId": "b48ffbc2-e3a5-4eff-d2da-dc8dc8827d89"
      },
      "source": [
        "from scipy import optimize\n",
        "x_data = np.linspace(-6, 6, num=50)\n",
        "y_data = 2.9 * np.sin(1.5 * x_data) + np.random.normal(size=50)\n",
        "plt.plot(x_data, y_data, 'd', lw=3)"
      ],
      "execution_count": 11,
      "outputs": [
        {
          "output_type": "execute_result",
          "data": {
            "text/plain": [
              "[<matplotlib.lines.Line2D at 0x7f5f50edaad0>]"
            ]
          },
          "metadata": {
            "tags": []
          },
          "execution_count": 11
        },
        {
          "output_type": "display_data",
          "data": {
            "image/png": "[encoded data removed]",
            "text/plain": [
              "<Figure size 432x288 with 1 Axes>"
            ]
          },
          "metadata": {
            "tags": [],
            "needs_background": "light"
          }
        }
      ]
    },
    {
      "cell_type": "code",
      "metadata": {
        "id": "BCunxScoc_Ox"
      },
      "source": [
        "def test_func(x, a, b):\n",
        "  return a * np.sin(b * x)"
      ],
      "execution_count": 12,
      "outputs": []
    },
    {
      "cell_type": "code",
      "metadata": {
        "colab": {
          "base_uri": "https://localhost:8080/"
        },
        "id": "GnzYS6WMdQDH",
        "outputId": "1af46e33-c253-44f7-b618-718622de0ffc"
      },
      "source": [
        "params, params_covariance = optimize.curve_fit(test_func, x_data, y_data, p0=[2, 2])\n",
        "print(params)"
      ],
      "execution_count": 14,
      "outputs": [
        {
          "output_type": "stream",
          "text": [
            "[2.82549298 1.48083762]\n"
          ],
          "name": "stdout"
        }
      ]
    },
    {
      "cell_type": "code",
      "metadata": {
        "colab": {
          "base_uri": "https://localhost:8080/",
          "height": 265
        },
        "id": "y6u_gGArdQLj",
        "outputId": "45b88333-394f-44d1-85d9-ffb4209e167e"
      },
      "source": [
        "a=params[0]\n",
        "b=params[1]\n",
        "y1=test_func(x,a,b)\n",
        "plt.plot(x_data, y_data, 'd', x, y1, 'g')\n",
        "plt.show()"
      ],
      "execution_count": 15,
      "outputs": [
        {
          "output_type": "display_data",
          "data": {
            "image/png": "[encoded data removed]",
            "text/plain": [
              "<Figure size 432x288 with 1 Axes>"
            ]
          },
          "metadata": {
            "tags": [],
            "needs_background": "light"
          }
        }
      ]
    },
    {
      "cell_type": "markdown",
      "metadata": {
        "id": "GMv_gTTzdWPZ"
      },
      "source": [
        "# Задание 1"
      ]
    },
    {
      "cell_type": "code",
      "metadata": {
        "colab": {
          "base_uri": "https://localhost:8080/",
          "height": 296
        },
        "id": "y12nzyxBdW4a",
        "outputId": "2f16f85f-32d4-4173-fd71-8bc892200cbd"
      },
      "source": [
        "import numpy as np\n",
        "temp_max = np.array([17, 19, 21, 28, 33, 38, 37, 37, 31, 23, 19, 18])\n",
        "temp_min = np.array([-62, -59, -56, -46, -32, -18, -9, -13, -25, -46, -52, -58])\n",
        "import matplotlib.pyplot as plt\n",
        "months = np.arange(12)\n",
        "plt.plot(months, temp_max, 'ro')\n",
        "plt.plot(months, temp_min, 'bo')\n",
        "plt.xlabel('Месяц')\n",
        "plt.ylabel('min и max температура')"
      ],
      "execution_count": 16,
      "outputs": [
        {
          "output_type": "execute_result",
          "data": {
            "text/plain": [
              "Text(0, 0.5, 'min и max температура')"
            ]
          },
          "metadata": {
            "tags": []
          },
          "execution_count": 16
        },
        {
          "output_type": "display_data",
          "data": {
            "image/png": "[encoded data removed]",
            "text/plain": [
              "<Figure size 432x288 with 1 Axes>"
            ]
          },
          "metadata": {
            "tags": [],
            "needs_background": "light"
          }
        }
      ]
    },
    {
      "cell_type": "code",
      "metadata": {
        "id": "xV8KDE8sdXAN"
      },
      "source": [
        "from scipy import optimize\n",
        "def  yearly_temps(times, avg, ampl, time_offset):\n",
        "  return (avg+ampl * np.cos((times + time_offset)* 2 * np.pi / times.max()))\n",
        "res_max, cov_max = optimize.curve_fit(yearly_temps, months, temp_max, [20, 10, 0])\n",
        "res_min, cov_min = optimize.curve_fit(yearly_temps, months, temp_min, [-40, 20, 0])"
      ],
      "execution_count": 17,
      "outputs": []
    },
    {
      "cell_type": "code",
      "metadata": {
        "colab": {
          "base_uri": "https://localhost:8080/",
          "height": 279
        },
        "id": "BUO6OShNddS6",
        "outputId": "e4c376b1-b13e-4e2e-858d-1d49052b049e"
      },
      "source": [
        "days = np.linspace(0, 12, num=365)\n",
        "plt.figure()\n",
        "plt.plot(months, temp_max, 'ro')\n",
        "plt.plot(days, yearly_temps(days, *res_max), 'r-')\n",
        "plt.plot(months, temp_min, 'bo')\n",
        "plt.plot(days, yearly_temps(days, *res_min), 'b-')\n",
        "plt.xlabel('Месяц')\n",
        "plt.ylabel('Температура($^\\circ$C)')\n",
        "plt.show()"
      ],
      "execution_count": 18,
      "outputs": [
        {
          "output_type": "display_data",
          "data": {
            "image/png": "[encoded data removed]",
            "text/plain": [
              "<Figure size 432x288 with 1 Axes>"
            ]
          },
          "metadata": {
            "tags": [],
            "needs_background": "light"
          }
        }
      ]
    }
  ]
}